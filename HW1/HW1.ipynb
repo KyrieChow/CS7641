{
 "cells": [
  {
   "cell_type": "code",
   "execution_count": 1,
   "id": "6c0032f7-cfac-49a8-be1f-698f20fe65c9",
   "metadata": {},
   "outputs": [],
   "source": [
    "import numpy as np\n",
    "import sklearn\n",
    "import pandas as pd\n",
    "from IPython.display import display\n",
    "from sklearn.model_selection import train_test_split, GridSearchCV, learning_curve, StratifiedShuffleSplit\n",
    "from sklearn import preprocessing\n",
    "from sklearn.metrics import roc_curve, precision_score, accuracy_score, average_precision_score, recall_score, f1_score, classification_report, confusion_matrix\n",
    "import os\n",
    "from collections import Counter\n",
    "\n",
    "pd.options.display.max_columns = None\n",
    "import matplotlib.pyplot as plt\n",
    "import matplotlib\n",
    "matplotlib.rc('figure', figsize=[10,5])\n",
    "\n",
    "np.random.seed(999)"
   ]
  },
  {
   "cell_type": "markdown",
   "id": "ac32f3e8-aa37-4d1e-babe-d63bd3714d01",
   "metadata": {},
   "source": [
    "## Models"
   ]
  },
  {
   "cell_type": "code",
   "execution_count": 2,
   "id": "82bd3d46-fd06-4bec-93b9-0bcce212089f",
   "metadata": {},
   "outputs": [],
   "source": [
    "from sklearn.tree import DecisionTreeClassifier\n",
    "from sklearn.ensemble import AdaBoostClassifier\n",
    "from sklearn.svm import SVC\n",
    "from sklearn.neural_network import MLPClassifier\n",
    "from sklearn.neighbors import KNeighborsClassifier"
   ]
  },
  {
   "cell_type": "markdown",
   "id": "90465420-4b97-4ad1-85aa-fffb16484cfa",
   "metadata": {},
   "source": [
    "## Metrics"
   ]
  },
  {
   "cell_type": "code",
   "execution_count": 3,
   "id": "cf975919-f8a2-401b-9e7d-672956fabb79",
   "metadata": {},
   "outputs": [],
   "source": [
    "def plot_learning_curve(estimator, title, X, y, ylim=None, cv=None,\n",
    "                        n_jobs=1, train_sizes=np.linspace(.1, 1.0, 5)):\n",
    "    plt.figure()\n",
    "    plt.title(title)\n",
    "    if ylim is None:\n",
    "        ylim = [0, 1]\n",
    "    plt.ylim(*ylim)\n",
    "        \n",
    "    plt.xlabel(\"Training examples\")\n",
    "    plt.ylabel(\"Score\")\n",
    "    train_sizes, train_scores, test_scores = learning_curve(\n",
    "        estimator, X, y, cv=cv, n_jobs=n_jobs, train_sizes=train_sizes)\n",
    "    train_scores_mean = np.mean(train_scores, axis=1)\n",
    "    train_scores_std = np.std(train_scores, axis=1)\n",
    "    test_scores_mean = np.mean(test_scores, axis=1)\n",
    "    test_scores_std = np.std(test_scores, axis=1)\n",
    "    plt.grid()\n",
    "\n",
    "    plt.fill_between(train_sizes, train_scores_mean - train_scores_std,\n",
    "                     train_scores_mean + train_scores_std, alpha=0.1,\n",
    "                     color=\"r\")\n",
    "    plt.fill_between(train_sizes, test_scores_mean - test_scores_std,\n",
    "                     test_scores_mean + test_scores_std, alpha=0.1, color=\"g\")\n",
    "    plt.plot(train_sizes, train_scores_mean, 'o-', color=\"r\",\n",
    "             label=\"Training score\")\n",
    "    plt.plot(train_sizes, test_scores_mean, 'o-', color=\"g\",\n",
    "             label=\"Cross-validation score\")\n",
    "\n",
    "    plt.legend(loc=\"best\")\n",
    "    plt.show()\n",
    "    "
   ]
  },
  {
   "cell_type": "markdown",
   "id": "add43369-63ef-4464-a699-8ddf000397bd",
   "metadata": {},
   "source": [
    "# Load Datasets"
   ]
  },
  {
   "cell_type": "code",
   "execution_count": 4,
   "id": "2abd1f3b-a1ff-46c1-96eb-19128d95d313",
   "metadata": {},
   "outputs": [],
   "source": [
    "data_wine = pd.read_csv('wine.csv')\n",
    "data_volcanoes = pd.read_csv('volcanoes-a4.csv', index_col=0)"
   ]
  },
  {
   "cell_type": "code",
   "execution_count": 5,
   "id": "894786bc-b06a-4b1e-a6ea-a9d283ad9b9a",
   "metadata": {},
   "outputs": [
    {
     "data": {
      "text/html": [
       "<div>\n",
       "<style scoped>\n",
       "    .dataframe tbody tr th:only-of-type {\n",
       "        vertical-align: middle;\n",
       "    }\n",
       "\n",
       "    .dataframe tbody tr th {\n",
       "        vertical-align: top;\n",
       "    }\n",
       "\n",
       "    .dataframe thead th {\n",
       "        text-align: right;\n",
       "    }\n",
       "</style>\n",
       "<table border=\"1\" class=\"dataframe\">\n",
       "  <thead>\n",
       "    <tr style=\"text-align: right;\">\n",
       "      <th></th>\n",
       "      <th>class</th>\n",
       "      <th>Alcohol</th>\n",
       "      <th>Malic_acid</th>\n",
       "      <th>Ash</th>\n",
       "      <th>Alcalinity_of_ash</th>\n",
       "      <th>Magnesium</th>\n",
       "      <th>Total_phenols</th>\n",
       "      <th>Flavanoids</th>\n",
       "      <th>Nonflavanoid_phenols</th>\n",
       "      <th>Proanthocyanins</th>\n",
       "      <th>Color_intensity</th>\n",
       "      <th>Hue</th>\n",
       "      <th>Od_Hod_of_diluted_wines</th>\n",
       "      <th>Proline</th>\n",
       "    </tr>\n",
       "  </thead>\n",
       "  <tbody>\n",
       "    <tr>\n",
       "      <th>0</th>\n",
       "      <td>1</td>\n",
       "      <td>13.761443</td>\n",
       "      <td>0.972960</td>\n",
       "      <td>2.191146</td>\n",
       "      <td>14.349954</td>\n",
       "      <td>106.525734</td>\n",
       "      <td>2.288580</td>\n",
       "      <td>2.584551</td>\n",
       "      <td>0.418044</td>\n",
       "      <td>1.862804</td>\n",
       "      <td>3.086808</td>\n",
       "      <td>1.169861</td>\n",
       "      <td>2.819086</td>\n",
       "      <td>850.678431</td>\n",
       "    </tr>\n",
       "    <tr>\n",
       "      <th>1</th>\n",
       "      <td>2</td>\n",
       "      <td>11.897923</td>\n",
       "      <td>1.297780</td>\n",
       "      <td>2.199666</td>\n",
       "      <td>17.478054</td>\n",
       "      <td>104.205421</td>\n",
       "      <td>2.716657</td>\n",
       "      <td>1.855066</td>\n",
       "      <td>0.318077</td>\n",
       "      <td>1.029640</td>\n",
       "      <td>9.103668</td>\n",
       "      <td>1.353718</td>\n",
       "      <td>2.780333</td>\n",
       "      <td>332.922006</td>\n",
       "    </tr>\n",
       "    <tr>\n",
       "      <th>2</th>\n",
       "      <td>3</td>\n",
       "      <td>12.659632</td>\n",
       "      <td>1.748552</td>\n",
       "      <td>2.438597</td>\n",
       "      <td>21.584696</td>\n",
       "      <td>88.079451</td>\n",
       "      <td>1.919476</td>\n",
       "      <td>0.681341</td>\n",
       "      <td>0.538078</td>\n",
       "      <td>1.327974</td>\n",
       "      <td>8.803633</td>\n",
       "      <td>0.643678</td>\n",
       "      <td>1.569951</td>\n",
       "      <td>633.531687</td>\n",
       "    </tr>\n",
       "    <tr>\n",
       "      <th>3</th>\n",
       "      <td>1</td>\n",
       "      <td>13.054828</td>\n",
       "      <td>1.817559</td>\n",
       "      <td>1.893926</td>\n",
       "      <td>15.390157</td>\n",
       "      <td>108.589893</td>\n",
       "      <td>2.662509</td>\n",
       "      <td>2.815723</td>\n",
       "      <td>0.278535</td>\n",
       "      <td>1.473812</td>\n",
       "      <td>6.386732</td>\n",
       "      <td>0.820398</td>\n",
       "      <td>3.694865</td>\n",
       "      <td>880.103325</td>\n",
       "    </tr>\n",
       "    <tr>\n",
       "      <th>4</th>\n",
       "      <td>3</td>\n",
       "      <td>11.769431</td>\n",
       "      <td>3.017528</td>\n",
       "      <td>3.013448</td>\n",
       "      <td>17.081528</td>\n",
       "      <td>86.525235</td>\n",
       "      <td>2.224963</td>\n",
       "      <td>0.846229</td>\n",
       "      <td>0.286065</td>\n",
       "      <td>1.644007</td>\n",
       "      <td>10.383464</td>\n",
       "      <td>0.734288</td>\n",
       "      <td>2.747013</td>\n",
       "      <td>475.152492</td>\n",
       "    </tr>\n",
       "  </tbody>\n",
       "</table>\n",
       "</div>"
      ],
      "text/plain": [
       "   class    Alcohol  Malic_acid       Ash  Alcalinity_of_ash   Magnesium  \\\n",
       "0      1  13.761443    0.972960  2.191146          14.349954  106.525734   \n",
       "1      2  11.897923    1.297780  2.199666          17.478054  104.205421   \n",
       "2      3  12.659632    1.748552  2.438597          21.584696   88.079451   \n",
       "3      1  13.054828    1.817559  1.893926          15.390157  108.589893   \n",
       "4      3  11.769431    3.017528  3.013448          17.081528   86.525235   \n",
       "\n",
       "   Total_phenols  Flavanoids  Nonflavanoid_phenols  Proanthocyanins  \\\n",
       "0       2.288580    2.584551              0.418044         1.862804   \n",
       "1       2.716657    1.855066              0.318077         1.029640   \n",
       "2       1.919476    0.681341              0.538078         1.327974   \n",
       "3       2.662509    2.815723              0.278535         1.473812   \n",
       "4       2.224963    0.846229              0.286065         1.644007   \n",
       "\n",
       "   Color_intensity       Hue  Od_Hod_of_diluted_wines     Proline  \n",
       "0         3.086808  1.169861                 2.819086  850.678431  \n",
       "1         9.103668  1.353718                 2.780333  332.922006  \n",
       "2         8.803633  0.643678                 1.569951  633.531687  \n",
       "3         6.386732  0.820398                 3.694865  880.103325  \n",
       "4        10.383464  0.734288                 2.747013  475.152492  "
      ]
     },
     "execution_count": 5,
     "metadata": {},
     "output_type": "execute_result"
    }
   ],
   "source": [
    "data_wine.head()"
   ]
  },
  {
   "cell_type": "code",
   "execution_count": 6,
   "id": "c97dfbf4-697e-46a3-a2d6-efa21491cc0c",
   "metadata": {},
   "outputs": [
    {
     "data": {
      "text/html": [
       "<div>\n",
       "<style scoped>\n",
       "    .dataframe tbody tr th:only-of-type {\n",
       "        vertical-align: middle;\n",
       "    }\n",
       "\n",
       "    .dataframe tbody tr th {\n",
       "        vertical-align: top;\n",
       "    }\n",
       "\n",
       "    .dataframe thead th {\n",
       "        text-align: right;\n",
       "    }\n",
       "</style>\n",
       "<table border=\"1\" class=\"dataframe\">\n",
       "  <thead>\n",
       "    <tr style=\"text-align: right;\">\n",
       "      <th></th>\n",
       "      <th>V1</th>\n",
       "      <th>V2</th>\n",
       "      <th>V3</th>\n",
       "      <th>Class</th>\n",
       "    </tr>\n",
       "    <tr>\n",
       "      <th>id</th>\n",
       "      <th></th>\n",
       "      <th></th>\n",
       "      <th></th>\n",
       "      <th></th>\n",
       "    </tr>\n",
       "  </thead>\n",
       "  <tbody>\n",
       "    <tr>\n",
       "      <th>1</th>\n",
       "      <td>291</td>\n",
       "      <td>802</td>\n",
       "      <td>0.575356</td>\n",
       "      <td>2</td>\n",
       "    </tr>\n",
       "    <tr>\n",
       "      <th>2</th>\n",
       "      <td>234</td>\n",
       "      <td>656</td>\n",
       "      <td>0.588769</td>\n",
       "      <td>2</td>\n",
       "    </tr>\n",
       "    <tr>\n",
       "      <th>3</th>\n",
       "      <td>332</td>\n",
       "      <td>698</td>\n",
       "      <td>0.451603</td>\n",
       "      <td>2</td>\n",
       "    </tr>\n",
       "    <tr>\n",
       "      <th>4</th>\n",
       "      <td>352</td>\n",
       "      <td>772</td>\n",
       "      <td>0.567596</td>\n",
       "      <td>2</td>\n",
       "    </tr>\n",
       "    <tr>\n",
       "      <th>5</th>\n",
       "      <td>41</td>\n",
       "      <td>809</td>\n",
       "      <td>0.754151</td>\n",
       "      <td>2</td>\n",
       "    </tr>\n",
       "  </tbody>\n",
       "</table>\n",
       "</div>"
      ],
      "text/plain": [
       "     V1   V2        V3  Class\n",
       "id                           \n",
       "1   291  802  0.575356      2\n",
       "2   234  656  0.588769      2\n",
       "3   332  698  0.451603      2\n",
       "4   352  772  0.567596      2\n",
       "5    41  809  0.754151      2"
      ]
     },
     "execution_count": 6,
     "metadata": {},
     "output_type": "execute_result"
    }
   ],
   "source": [
    "data_volcanoes.head()"
   ]
  },
  {
   "cell_type": "code",
   "execution_count": 7,
   "id": "896dbc9a-e83a-498e-b5c8-88d974cd05a5",
   "metadata": {},
   "outputs": [
    {
     "data": {
      "text/html": [
       "<div>\n",
       "<style scoped>\n",
       "    .dataframe tbody tr th:only-of-type {\n",
       "        vertical-align: middle;\n",
       "    }\n",
       "\n",
       "    .dataframe tbody tr th {\n",
       "        vertical-align: top;\n",
       "    }\n",
       "\n",
       "    .dataframe thead th {\n",
       "        text-align: right;\n",
       "    }\n",
       "</style>\n",
       "<table border=\"1\" class=\"dataframe\">\n",
       "  <thead>\n",
       "    <tr style=\"text-align: right;\">\n",
       "      <th></th>\n",
       "      <th>class</th>\n",
       "      <th>Alcohol</th>\n",
       "      <th>Malic_acid</th>\n",
       "      <th>Ash</th>\n",
       "      <th>Alcalinity_of_ash</th>\n",
       "      <th>Magnesium</th>\n",
       "      <th>Total_phenols</th>\n",
       "      <th>Flavanoids</th>\n",
       "      <th>Nonflavanoid_phenols</th>\n",
       "      <th>Proanthocyanins</th>\n",
       "      <th>Color_intensity</th>\n",
       "      <th>Hue</th>\n",
       "      <th>Od_Hod_of_diluted_wines</th>\n",
       "      <th>Proline</th>\n",
       "    </tr>\n",
       "  </thead>\n",
       "  <tbody>\n",
       "    <tr>\n",
       "      <th>count</th>\n",
       "      <td>5000.000000</td>\n",
       "      <td>5000.000000</td>\n",
       "      <td>5000.000000</td>\n",
       "      <td>5000.000000</td>\n",
       "      <td>5000.000000</td>\n",
       "      <td>5000.000000</td>\n",
       "      <td>5000.000000</td>\n",
       "      <td>5000.000000</td>\n",
       "      <td>5000.000000</td>\n",
       "      <td>5000.000000</td>\n",
       "      <td>5000.000000</td>\n",
       "      <td>5000.000000</td>\n",
       "      <td>5000.000000</td>\n",
       "      <td>5000.000000</td>\n",
       "    </tr>\n",
       "    <tr>\n",
       "      <th>mean</th>\n",
       "      <td>1.966600</td>\n",
       "      <td>12.995186</td>\n",
       "      <td>2.330916</td>\n",
       "      <td>2.370151</td>\n",
       "      <td>19.496761</td>\n",
       "      <td>99.072699</td>\n",
       "      <td>2.300694</td>\n",
       "      <td>2.057249</td>\n",
       "      <td>0.362036</td>\n",
       "      <td>1.590397</td>\n",
       "      <td>5.086170</td>\n",
       "      <td>0.962753</td>\n",
       "      <td>2.609474</td>\n",
       "      <td>744.635286</td>\n",
       "    </tr>\n",
       "    <tr>\n",
       "      <th>std</th>\n",
       "      <td>0.772272</td>\n",
       "      <td>0.814378</td>\n",
       "      <td>1.118433</td>\n",
       "      <td>0.274757</td>\n",
       "      <td>3.351535</td>\n",
       "      <td>13.951364</td>\n",
       "      <td>0.617459</td>\n",
       "      <td>0.992019</td>\n",
       "      <td>0.124728</td>\n",
       "      <td>0.566114</td>\n",
       "      <td>2.337002</td>\n",
       "      <td>0.225385</td>\n",
       "      <td>0.704532</td>\n",
       "      <td>313.348736</td>\n",
       "    </tr>\n",
       "    <tr>\n",
       "      <th>min</th>\n",
       "      <td>1.000000</td>\n",
       "      <td>10.991005</td>\n",
       "      <td>0.478367</td>\n",
       "      <td>1.447951</td>\n",
       "      <td>10.366806</td>\n",
       "      <td>68.871553</td>\n",
       "      <td>0.969383</td>\n",
       "      <td>0.277914</td>\n",
       "      <td>0.109327</td>\n",
       "      <td>0.099295</td>\n",
       "      <td>1.129366</td>\n",
       "      <td>0.414259</td>\n",
       "      <td>1.112145</td>\n",
       "      <td>231.883252</td>\n",
       "    </tr>\n",
       "    <tr>\n",
       "      <th>25%</th>\n",
       "      <td>1.000000</td>\n",
       "      <td>12.386366</td>\n",
       "      <td>1.592804</td>\n",
       "      <td>2.236354</td>\n",
       "      <td>17.372474</td>\n",
       "      <td>88.827614</td>\n",
       "      <td>1.791985</td>\n",
       "      <td>1.223907</td>\n",
       "      <td>0.270011</td>\n",
       "      <td>1.238714</td>\n",
       "      <td>3.271563</td>\n",
       "      <td>0.802881</td>\n",
       "      <td>1.996074</td>\n",
       "      <td>507.083531</td>\n",
       "    </tr>\n",
       "    <tr>\n",
       "      <th>50%</th>\n",
       "      <td>2.000000</td>\n",
       "      <td>13.026910</td>\n",
       "      <td>1.867287</td>\n",
       "      <td>2.369439</td>\n",
       "      <td>19.383204</td>\n",
       "      <td>97.561288</td>\n",
       "      <td>2.324534</td>\n",
       "      <td>2.138558</td>\n",
       "      <td>0.335068</td>\n",
       "      <td>1.546307</td>\n",
       "      <td>4.745563</td>\n",
       "      <td>0.977078</td>\n",
       "      <td>2.770427</td>\n",
       "      <td>665.609642</td>\n",
       "    </tr>\n",
       "    <tr>\n",
       "      <th>75%</th>\n",
       "      <td>3.000000</td>\n",
       "      <td>13.624392</td>\n",
       "      <td>2.940638</td>\n",
       "      <td>2.542378</td>\n",
       "      <td>21.429700</td>\n",
       "      <td>105.978061</td>\n",
       "      <td>2.755317</td>\n",
       "      <td>2.808482</td>\n",
       "      <td>0.442366</td>\n",
       "      <td>1.888451</td>\n",
       "      <td>6.214175</td>\n",
       "      <td>1.104621</td>\n",
       "      <td>3.146931</td>\n",
       "      <td>948.204369</td>\n",
       "    </tr>\n",
       "    <tr>\n",
       "      <th>max</th>\n",
       "      <td>3.000000</td>\n",
       "      <td>14.802882</td>\n",
       "      <td>6.242546</td>\n",
       "      <td>3.167812</td>\n",
       "      <td>30.236014</td>\n",
       "      <td>164.765854</td>\n",
       "      <td>3.882879</td>\n",
       "      <td>4.397836</td>\n",
       "      <td>0.756410</td>\n",
       "      <td>3.700137</td>\n",
       "      <td>13.120260</td>\n",
       "      <td>1.603007</td>\n",
       "      <td>4.032795</td>\n",
       "      <td>1782.712893</td>\n",
       "    </tr>\n",
       "  </tbody>\n",
       "</table>\n",
       "</div>"
      ],
      "text/plain": [
       "             class      Alcohol   Malic_acid          Ash  Alcalinity_of_ash  \\\n",
       "count  5000.000000  5000.000000  5000.000000  5000.000000        5000.000000   \n",
       "mean      1.966600    12.995186     2.330916     2.370151          19.496761   \n",
       "std       0.772272     0.814378     1.118433     0.274757           3.351535   \n",
       "min       1.000000    10.991005     0.478367     1.447951          10.366806   \n",
       "25%       1.000000    12.386366     1.592804     2.236354          17.372474   \n",
       "50%       2.000000    13.026910     1.867287     2.369439          19.383204   \n",
       "75%       3.000000    13.624392     2.940638     2.542378          21.429700   \n",
       "max       3.000000    14.802882     6.242546     3.167812          30.236014   \n",
       "\n",
       "         Magnesium  Total_phenols   Flavanoids  Nonflavanoid_phenols  \\\n",
       "count  5000.000000    5000.000000  5000.000000           5000.000000   \n",
       "mean     99.072699       2.300694     2.057249              0.362036   \n",
       "std      13.951364       0.617459     0.992019              0.124728   \n",
       "min      68.871553       0.969383     0.277914              0.109327   \n",
       "25%      88.827614       1.791985     1.223907              0.270011   \n",
       "50%      97.561288       2.324534     2.138558              0.335068   \n",
       "75%     105.978061       2.755317     2.808482              0.442366   \n",
       "max     164.765854       3.882879     4.397836              0.756410   \n",
       "\n",
       "       Proanthocyanins  Color_intensity          Hue  Od_Hod_of_diluted_wines  \\\n",
       "count      5000.000000      5000.000000  5000.000000              5000.000000   \n",
       "mean          1.590397         5.086170     0.962753                 2.609474   \n",
       "std           0.566114         2.337002     0.225385                 0.704532   \n",
       "min           0.099295         1.129366     0.414259                 1.112145   \n",
       "25%           1.238714         3.271563     0.802881                 1.996074   \n",
       "50%           1.546307         4.745563     0.977078                 2.770427   \n",
       "75%           1.888451         6.214175     1.104621                 3.146931   \n",
       "max           3.700137        13.120260     1.603007                 4.032795   \n",
       "\n",
       "           Proline  \n",
       "count  5000.000000  \n",
       "mean    744.635286  \n",
       "std     313.348736  \n",
       "min     231.883252  \n",
       "25%     507.083531  \n",
       "50%     665.609642  \n",
       "75%     948.204369  \n",
       "max    1782.712893  "
      ]
     },
     "execution_count": 7,
     "metadata": {},
     "output_type": "execute_result"
    }
   ],
   "source": [
    "data_wine.describe()"
   ]
  },
  {
   "cell_type": "code",
   "execution_count": 8,
   "id": "efb78bc2-f2ca-4f91-990e-32c8f8f92766",
   "metadata": {},
   "outputs": [
    {
     "data": {
      "text/plain": [
       "Counter({1: 1577, 2: 2013, 3: 1410})"
      ]
     },
     "execution_count": 8,
     "metadata": {},
     "output_type": "execute_result"
    }
   ],
   "source": [
    "Counter(data_wine['class'])"
   ]
  },
  {
   "cell_type": "code",
   "execution_count": 9,
   "id": "efe1cd42-7604-45fc-9cb1-57e01233d3fb",
   "metadata": {},
   "outputs": [
    {
     "data": {
      "text/html": [
       "<div>\n",
       "<style scoped>\n",
       "    .dataframe tbody tr th:only-of-type {\n",
       "        vertical-align: middle;\n",
       "    }\n",
       "\n",
       "    .dataframe tbody tr th {\n",
       "        vertical-align: top;\n",
       "    }\n",
       "\n",
       "    .dataframe thead th {\n",
       "        text-align: right;\n",
       "    }\n",
       "</style>\n",
       "<table border=\"1\" class=\"dataframe\">\n",
       "  <thead>\n",
       "    <tr style=\"text-align: right;\">\n",
       "      <th></th>\n",
       "      <th>V1</th>\n",
       "      <th>V2</th>\n",
       "      <th>V3</th>\n",
       "      <th>Class</th>\n",
       "    </tr>\n",
       "  </thead>\n",
       "  <tbody>\n",
       "    <tr>\n",
       "      <th>count</th>\n",
       "      <td>1515.000000</td>\n",
       "      <td>1515.000000</td>\n",
       "      <td>1515.000000</td>\n",
       "      <td>1515.000000</td>\n",
       "    </tr>\n",
       "    <tr>\n",
       "      <th>mean</th>\n",
       "      <td>501.908251</td>\n",
       "      <td>505.172937</td>\n",
       "      <td>0.436134</td>\n",
       "      <td>1.262706</td>\n",
       "    </tr>\n",
       "    <tr>\n",
       "      <th>std</th>\n",
       "      <td>286.734445</td>\n",
       "      <td>297.135809</td>\n",
       "      <td>0.083807</td>\n",
       "      <td>0.866766</td>\n",
       "    </tr>\n",
       "    <tr>\n",
       "      <th>min</th>\n",
       "      <td>16.000000</td>\n",
       "      <td>16.000000</td>\n",
       "      <td>0.350016</td>\n",
       "      <td>1.000000</td>\n",
       "    </tr>\n",
       "    <tr>\n",
       "      <th>25%</th>\n",
       "      <td>257.000000</td>\n",
       "      <td>241.000000</td>\n",
       "      <td>0.372818</td>\n",
       "      <td>1.000000</td>\n",
       "    </tr>\n",
       "    <tr>\n",
       "      <th>50%</th>\n",
       "      <td>500.000000</td>\n",
       "      <td>513.000000</td>\n",
       "      <td>0.410634</td>\n",
       "      <td>1.000000</td>\n",
       "    </tr>\n",
       "    <tr>\n",
       "      <th>75%</th>\n",
       "      <td>738.500000</td>\n",
       "      <td>759.000000</td>\n",
       "      <td>0.472479</td>\n",
       "      <td>1.000000</td>\n",
       "    </tr>\n",
       "    <tr>\n",
       "      <th>max</th>\n",
       "      <td>1006.000000</td>\n",
       "      <td>1008.000000</td>\n",
       "      <td>0.787393</td>\n",
       "      <td>5.000000</td>\n",
       "    </tr>\n",
       "  </tbody>\n",
       "</table>\n",
       "</div>"
      ],
      "text/plain": [
       "                V1           V2           V3        Class\n",
       "count  1515.000000  1515.000000  1515.000000  1515.000000\n",
       "mean    501.908251   505.172937     0.436134     1.262706\n",
       "std     286.734445   297.135809     0.083807     0.866766\n",
       "min      16.000000    16.000000     0.350016     1.000000\n",
       "25%     257.000000   241.000000     0.372818     1.000000\n",
       "50%     500.000000   513.000000     0.410634     1.000000\n",
       "75%     738.500000   759.000000     0.472479     1.000000\n",
       "max    1006.000000  1008.000000     0.787393     5.000000"
      ]
     },
     "execution_count": 9,
     "metadata": {},
     "output_type": "execute_result"
    }
   ],
   "source": [
    "data_volcanoes.describe()"
   ]
  },
  {
   "cell_type": "code",
   "execution_count": 10,
   "id": "63777fc1-60bf-461d-8cc2-49d02aa4d5fa",
   "metadata": {},
   "outputs": [
    {
     "data": {
      "text/plain": [
       "Counter({2: 33, 3: 29, 4: 45, 5: 43, 1: 1365})"
      ]
     },
     "execution_count": 10,
     "metadata": {},
     "output_type": "execute_result"
    }
   ],
   "source": [
    "Counter(data_volcanoes['Class'])"
   ]
  },
  {
   "cell_type": "markdown",
   "id": "ef67681c-284f-4f64-b384-cf3220710945",
   "metadata": {},
   "source": [
    "# Pre-processing"
   ]
  },
  {
   "cell_type": "code",
   "execution_count": 13,
   "id": "b972916b-35bd-4cf8-a644-3aa7f28e806a",
   "metadata": {},
   "outputs": [],
   "source": [
    "def preprossesor(df, label_column, test_size=0.2, random_state=99):\n",
    "    y = df[label_column].values\n",
    "    X_cols = df.columns.tolist()\n",
    "    X_cols.remove(label_column)\n",
    "    X = df[X_cols].values\n",
    "    min_max_scaler = preprocessing.MinMaxScaler()\n",
    "    X_scaled = min_max_scaler.fit_transform(X)\n",
    "    \n",
    "    split = StratifiedShuffleSplit(n_splits=1 , test_size=test_size, random_state=random_state)\n",
    "    for train_id, test_id in split.split(X_scaled, y):\n",
    "        X_train = X_scaled[train_id]\n",
    "        X_test = X_scaled[test_id]\n",
    "        y_train = y[train_id]\n",
    "        y_test = y[test_id]\n",
    "    \n",
    "    return {\n",
    "        'X': X_scaled,\n",
    "        'y': y,\n",
    "    'X_train': X_train,\n",
    "    'X_test': X_test,\n",
    "    'y_train': y_train,\n",
    "    'y_test': y_test\n",
    "}\n"
   ]
  },
  {
   "cell_type": "code",
   "execution_count": 14,
   "id": "f9b490bb-895b-4859-8e6a-02d6c1f7ccfd",
   "metadata": {},
   "outputs": [],
   "source": [
    "dataset_wine = preprossesor(data_wine, 'class', test_size=0.2, random_state=99)\n",
    "dataset_volcanoes = preprossesor(data_volcanoes, 'Class', test_size=0.2, random_state=99)"
   ]
  },
  {
   "cell_type": "markdown",
   "id": "664dab50-83b6-41ff-8bff-8ad022831545",
   "metadata": {},
   "source": [
    "# Decision Tree"
   ]
  },
  {
   "cell_type": "code",
   "execution_count": 15,
   "id": "31ad8b76-97ea-4185-96f9-3c17ec4e4066",
   "metadata": {},
   "outputs": [],
   "source": [
    "def decision_tree(data, title):\n",
    "    param_grid = {\n",
    "        'criterion': ['gini', 'entropy'],\n",
    "        'ccp_alpha': [0.02, 0.014, 0.01, 0.008, 0.006, 0.004, 0.002, 0.001],\n",
    "        'max_depth': [3, 5, 7, 9]\n",
    "    }\n",
    "    searcher = GridSearchCV(DecisionTreeClassifier(), param_grid, cv=10, \n",
    "                          scoring='f1_weighted', n_jobs=-1)\n",
    "    searcher.fit(data['X_train'], data['y_train'])\n",
    "    print(searcher.best_estimator_) \n",
    "    print('best score:', searcher.best_score_)\n",
    "    \n",
    "    estimator = DecisionTreeClassifier(criterion=searcher.best_estimator_.criterion, \n",
    "                                       max_depth=searcher.best_estimator_.max_depth,\n",
    "                                      ccp_alpha=searcher.best_estimator_.ccp_alpha)\n",
    "    \n",
    "    plot_learning_curve(estimator, title, data['X'], data['y'], ylim=None, cv=None,\n",
    "                        n_jobs=1, train_sizes=np.linspace(.1, 1.0, 5))\n",
    "    \n",
    "    estimator.fit(data['X_train'], data['y_train'])\n",
    "    test_pred = estimator.predict(data['X_test'])\n",
    "    print(classification_report(data['y_test'], test_pred,digits=5))\n",
    "    print(confusion_matrix(data['y_test'], test_pred))\n"
   ]
  },
  {
   "cell_type": "code",
   "execution_count": 16,
   "id": "1dce58c9-00b5-4dd2-810e-79044404a1b8",
   "metadata": {},
   "outputs": [
    {
     "name": "stdout",
     "output_type": "stream",
     "text": [
      "DecisionTreeClassifier(ccp_alpha=0.006, criterion='entropy', max_depth=5)\n",
      "best score: 0.8833942317954377\n"
     ]
    },
    {
     "data": {
      "image/png": "[encoded data removed]",
      "text/plain": [
       "<Figure size 720x360 with 1 Axes>"
      ]
     },
     "metadata": {
      "needs_background": "light"
     },
     "output_type": "display_data"
    },
    {
     "name": "stdout",
     "output_type": "stream",
     "text": [
      "              precision    recall  f1-score   support\n",
      "\n",
      "           1    0.93007   0.97436   0.95170       273\n",
      "           2    0.00000   0.00000   0.00000         6\n",
      "           3    0.00000   0.00000   0.00000         6\n",
      "           4    0.33333   0.11111   0.16667         9\n",
      "           5    0.14286   0.11111   0.12500         9\n",
      "\n",
      "    accuracy                        0.88449       303\n",
      "   macro avg    0.28125   0.23932   0.24867       303\n",
      "weighted avg    0.85213   0.88449   0.86614       303\n",
      "\n",
      "[[266   0   2   2   3]\n",
      " [  4   0   0   0   2]\n",
      " [  5   1   0   0   0]\n",
      " [  6   0   1   1   1]\n",
      " [  5   0   3   0   1]]\n"
     ]
    }
   ],
   "source": [
    "decision_tree(dataset_volcanoes, 'Decision Tree: volcanoes')"
   ]
  },
  {
   "cell_type": "code",
   "execution_count": 17,
   "id": "850620fb-b523-4f01-ab14-a0f205deb1eb",
   "metadata": {},
   "outputs": [
    {
     "name": "stdout",
     "output_type": "stream",
     "text": [
      "DecisionTreeClassifier(ccp_alpha=0.001, max_depth=7)\n",
      "best score: 0.90548233539037\n"
     ]
    },
    {
     "data": {
      "image/png": "[encoded data removed]",
      "text/plain": [
       "<Figure size 720x360 with 1 Axes>"
      ]
     },
     "metadata": {
      "needs_background": "light"
     },
     "output_type": "display_data"
    },
    {
     "name": "stdout",
     "output_type": "stream",
     "text": [
      "              precision    recall  f1-score   support\n",
      "\n",
      "           1    0.93417   0.94603   0.94006       315\n",
      "           2    0.91214   0.87593   0.89367       403\n",
      "           3    0.86735   0.90426   0.88542       282\n",
      "\n",
      "    accuracy                        0.90600      1000\n",
      "   macro avg    0.90455   0.90874   0.90638      1000\n",
      "weighted avg    0.90645   0.90600   0.90596      1000\n",
      "\n",
      "[[298   9   8]\n",
      " [ 19 353  31]\n",
      " [  2  25 255]]\n"
     ]
    }
   ],
   "source": [
    "decision_tree(dataset_wine, 'Decision Tree: wine')"
   ]
  },
  {
   "cell_type": "markdown",
   "id": "3e09b5c3-a038-48bc-8a44-f020ce0ef920",
   "metadata": {},
   "source": [
    "# Neural Networks"
   ]
  },
  {
   "cell_type": "code",
   "execution_count": 18,
   "id": "dce4f188-3338-4185-a613-ae236efebf39",
   "metadata": {},
   "outputs": [],
   "source": [
    "def neural_network(data, title):\n",
    "    param_grid = {\n",
    "    'hidden_layer_sizes': [(8,16), (16,32), (32,64)],\n",
    "    \"alpha\" : [1e-1, 1e-2, 1e-3],\n",
    "    'learning_rate': ['constant', 'invscaling'],\n",
    "}\n",
    "    searcher = GridSearchCV(MLPClassifier(), param_grid, cv=10, \n",
    "                          scoring='f1_weighted', n_jobs=-1)\n",
    "    searcher.fit(data['X_train'], data['y_train'])\n",
    "    print(searcher.best_estimator_) \n",
    "    print('best score:', searcher.best_score_)\n",
    "    \n",
    "    estimator = MLPClassifier(hidden_layer_sizes=searcher.best_estimator_.hidden_layer_sizes, \n",
    "                                       alpha=searcher.best_estimator_.alpha,\n",
    "                                      learning_rate=searcher.best_estimator_.learning_rate)\n",
    "    \n",
    "    plot_learning_curve(estimator, title, data['X'], data['y'], ylim=None, cv=None,\n",
    "                        n_jobs=1, train_sizes=np.linspace(.1, 1.0, 5))\n",
    "    \n",
    "    estimator.fit(data['X_train'], data['y_train'])\n",
    "    test_pred = estimator.predict(data['X_test'])\n",
    "    print(classification_report(data['y_test'], test_pred,digits=5))\n",
    "    print(confusion_matrix(data['y_test'], test_pred))\n"
   ]
  },
  {
   "cell_type": "code",
   "execution_count": 19,
   "id": "0ae9d2d9-025e-4e3b-820f-1cd21b37cad2",
   "metadata": {},
   "outputs": [
    {
     "name": "stdout",
     "output_type": "stream",
     "text": [
      "MLPClassifier(alpha=0.001, hidden_layer_sizes=(32, 64),\n",
      "              learning_rate='invscaling')\n",
      "best score: 0.8757172991857111\n"
     ]
    },
    {
     "name": "stderr",
     "output_type": "stream",
     "text": [
      "/opt/anaconda3/lib/python3.8/site-packages/sklearn/neural_network/_multilayer_perceptron.py:692: ConvergenceWarning: Stochastic Optimizer: Maximum iterations (200) reached and the optimization hasn't converged yet.\n",
      "  warnings.warn(\n",
      "/opt/anaconda3/lib/python3.8/site-packages/sklearn/neural_network/_multilayer_perceptron.py:692: ConvergenceWarning: Stochastic Optimizer: Maximum iterations (200) reached and the optimization hasn't converged yet.\n",
      "  warnings.warn(\n",
      "/opt/anaconda3/lib/python3.8/site-packages/sklearn/neural_network/_multilayer_perceptron.py:692: ConvergenceWarning: Stochastic Optimizer: Maximum iterations (200) reached and the optimization hasn't converged yet.\n",
      "  warnings.warn(\n",
      "/opt/anaconda3/lib/python3.8/site-packages/sklearn/neural_network/_multilayer_perceptron.py:692: ConvergenceWarning: Stochastic Optimizer: Maximum iterations (200) reached and the optimization hasn't converged yet.\n",
      "  warnings.warn(\n",
      "/opt/anaconda3/lib/python3.8/site-packages/sklearn/neural_network/_multilayer_perceptron.py:692: ConvergenceWarning: Stochastic Optimizer: Maximum iterations (200) reached and the optimization hasn't converged yet.\n",
      "  warnings.warn(\n",
      "/opt/anaconda3/lib/python3.8/site-packages/sklearn/neural_network/_multilayer_perceptron.py:692: ConvergenceWarning: Stochastic Optimizer: Maximum iterations (200) reached and the optimization hasn't converged yet.\n",
      "  warnings.warn(\n",
      "/opt/anaconda3/lib/python3.8/site-packages/sklearn/neural_network/_multilayer_perceptron.py:692: ConvergenceWarning: Stochastic Optimizer: Maximum iterations (200) reached and the optimization hasn't converged yet.\n",
      "  warnings.warn(\n",
      "/opt/anaconda3/lib/python3.8/site-packages/sklearn/neural_network/_multilayer_perceptron.py:692: ConvergenceWarning: Stochastic Optimizer: Maximum iterations (200) reached and the optimization hasn't converged yet.\n",
      "  warnings.warn(\n",
      "/opt/anaconda3/lib/python3.8/site-packages/sklearn/neural_network/_multilayer_perceptron.py:692: ConvergenceWarning: Stochastic Optimizer: Maximum iterations (200) reached and the optimization hasn't converged yet.\n",
      "  warnings.warn(\n",
      "/opt/anaconda3/lib/python3.8/site-packages/sklearn/neural_network/_multilayer_perceptron.py:692: ConvergenceWarning: Stochastic Optimizer: Maximum iterations (200) reached and the optimization hasn't converged yet.\n",
      "  warnings.warn(\n",
      "/opt/anaconda3/lib/python3.8/site-packages/sklearn/neural_network/_multilayer_perceptron.py:692: ConvergenceWarning: Stochastic Optimizer: Maximum iterations (200) reached and the optimization hasn't converged yet.\n",
      "  warnings.warn(\n",
      "/opt/anaconda3/lib/python3.8/site-packages/sklearn/neural_network/_multilayer_perceptron.py:692: ConvergenceWarning: Stochastic Optimizer: Maximum iterations (200) reached and the optimization hasn't converged yet.\n",
      "  warnings.warn(\n",
      "/opt/anaconda3/lib/python3.8/site-packages/sklearn/neural_network/_multilayer_perceptron.py:692: ConvergenceWarning: Stochastic Optimizer: Maximum iterations (200) reached and the optimization hasn't converged yet.\n",
      "  warnings.warn(\n",
      "/opt/anaconda3/lib/python3.8/site-packages/sklearn/neural_network/_multilayer_perceptron.py:692: ConvergenceWarning: Stochastic Optimizer: Maximum iterations (200) reached and the optimization hasn't converged yet.\n",
      "  warnings.warn(\n",
      "/opt/anaconda3/lib/python3.8/site-packages/sklearn/neural_network/_multilayer_perceptron.py:692: ConvergenceWarning: Stochastic Optimizer: Maximum iterations (200) reached and the optimization hasn't converged yet.\n",
      "  warnings.warn(\n",
      "/opt/anaconda3/lib/python3.8/site-packages/sklearn/neural_network/_multilayer_perceptron.py:692: ConvergenceWarning: Stochastic Optimizer: Maximum iterations (200) reached and the optimization hasn't converged yet.\n",
      "  warnings.warn(\n",
      "/opt/anaconda3/lib/python3.8/site-packages/sklearn/neural_network/_multilayer_perceptron.py:692: ConvergenceWarning: Stochastic Optimizer: Maximum iterations (200) reached and the optimization hasn't converged yet.\n",
      "  warnings.warn(\n",
      "/opt/anaconda3/lib/python3.8/site-packages/sklearn/neural_network/_multilayer_perceptron.py:692: ConvergenceWarning: Stochastic Optimizer: Maximum iterations (200) reached and the optimization hasn't converged yet.\n",
      "  warnings.warn(\n",
      "/opt/anaconda3/lib/python3.8/site-packages/sklearn/neural_network/_multilayer_perceptron.py:692: ConvergenceWarning: Stochastic Optimizer: Maximum iterations (200) reached and the optimization hasn't converged yet.\n",
      "  warnings.warn(\n"
     ]
    },
    {
     "data": {
      "image/png": "[encoded data removed]",
      "text/plain": [
       "<Figure size 720x360 with 1 Axes>"
      ]
     },
     "metadata": {
      "needs_background": "light"
     },
     "output_type": "display_data"
    },
    {
     "name": "stdout",
     "output_type": "stream",
     "text": [
      "              precision    recall  f1-score   support\n",
      "\n",
      "           1    0.92230   1.00000   0.95958       273\n",
      "           2    0.00000   0.00000   0.00000         6\n",
      "           3    0.00000   0.00000   0.00000         6\n",
      "           4    1.00000   0.22222   0.36364         9\n",
      "           5    0.20000   0.11111   0.14286         9\n",
      "\n",
      "    accuracy                        0.91089       303\n",
      "   macro avg    0.42446   0.26667   0.29321       303\n",
      "weighted avg    0.86662   0.91089   0.87961       303\n",
      "\n",
      "[[273   0   0   0   0]\n",
      " [  4   0   0   0   2]\n",
      " [  5   0   0   0   1]\n",
      " [  6   0   0   2   1]\n",
      " [  8   0   0   0   1]]\n"
     ]
    },
    {
     "name": "stderr",
     "output_type": "stream",
     "text": [
      "/opt/anaconda3/lib/python3.8/site-packages/sklearn/metrics/_classification.py:1318: UndefinedMetricWarning: Precision and F-score are ill-defined and being set to 0.0 in labels with no predicted samples. Use `zero_division` parameter to control this behavior.\n",
      "  _warn_prf(average, modifier, msg_start, len(result))\n",
      "/opt/anaconda3/lib/python3.8/site-packages/sklearn/metrics/_classification.py:1318: UndefinedMetricWarning: Precision and F-score are ill-defined and being set to 0.0 in labels with no predicted samples. Use `zero_division` parameter to control this behavior.\n",
      "  _warn_prf(average, modifier, msg_start, len(result))\n",
      "/opt/anaconda3/lib/python3.8/site-packages/sklearn/metrics/_classification.py:1318: UndefinedMetricWarning: Precision and F-score are ill-defined and being set to 0.0 in labels with no predicted samples. Use `zero_division` parameter to control this behavior.\n",
      "  _warn_prf(average, modifier, msg_start, len(result))\n"
     ]
    }
   ],
   "source": [
    "neural_network(dataset_volcanoes, 'Neural Network: volcanoes')"
   ]
  },
  {
   "cell_type": "code",
   "execution_count": 20,
   "id": "45fe1b96-73d8-4b47-8052-73a04a77c1f0",
   "metadata": {},
   "outputs": [
    {
     "name": "stderr",
     "output_type": "stream",
     "text": [
      "/opt/anaconda3/lib/python3.8/site-packages/sklearn/neural_network/_multilayer_perceptron.py:692: ConvergenceWarning: Stochastic Optimizer: Maximum iterations (200) reached and the optimization hasn't converged yet.\n",
      "  warnings.warn(\n"
     ]
    },
    {
     "name": "stdout",
     "output_type": "stream",
     "text": [
      "MLPClassifier(alpha=0.1, hidden_layer_sizes=(32, 64))\n",
      "best score: 0.9244785430164362\n"
     ]
    },
    {
     "name": "stderr",
     "output_type": "stream",
     "text": [
      "/opt/anaconda3/lib/python3.8/site-packages/sklearn/neural_network/_multilayer_perceptron.py:692: ConvergenceWarning: Stochastic Optimizer: Maximum iterations (200) reached and the optimization hasn't converged yet.\n",
      "  warnings.warn(\n",
      "/opt/anaconda3/lib/python3.8/site-packages/sklearn/neural_network/_multilayer_perceptron.py:692: ConvergenceWarning: Stochastic Optimizer: Maximum iterations (200) reached and the optimization hasn't converged yet.\n",
      "  warnings.warn(\n",
      "/opt/anaconda3/lib/python3.8/site-packages/sklearn/neural_network/_multilayer_perceptron.py:692: ConvergenceWarning: Stochastic Optimizer: Maximum iterations (200) reached and the optimization hasn't converged yet.\n",
      "  warnings.warn(\n",
      "/opt/anaconda3/lib/python3.8/site-packages/sklearn/neural_network/_multilayer_perceptron.py:692: ConvergenceWarning: Stochastic Optimizer: Maximum iterations (200) reached and the optimization hasn't converged yet.\n",
      "  warnings.warn(\n",
      "/opt/anaconda3/lib/python3.8/site-packages/sklearn/neural_network/_multilayer_perceptron.py:692: ConvergenceWarning: Stochastic Optimizer: Maximum iterations (200) reached and the optimization hasn't converged yet.\n",
      "  warnings.warn(\n",
      "/opt/anaconda3/lib/python3.8/site-packages/sklearn/neural_network/_multilayer_perceptron.py:692: ConvergenceWarning: Stochastic Optimizer: Maximum iterations (200) reached and the optimization hasn't converged yet.\n",
      "  warnings.warn(\n",
      "/opt/anaconda3/lib/python3.8/site-packages/sklearn/neural_network/_multilayer_perceptron.py:692: ConvergenceWarning: Stochastic Optimizer: Maximum iterations (200) reached and the optimization hasn't converged yet.\n",
      "  warnings.warn(\n",
      "/opt/anaconda3/lib/python3.8/site-packages/sklearn/neural_network/_multilayer_perceptron.py:692: ConvergenceWarning: Stochastic Optimizer: Maximum iterations (200) reached and the optimization hasn't converged yet.\n",
      "  warnings.warn(\n",
      "/opt/anaconda3/lib/python3.8/site-packages/sklearn/neural_network/_multilayer_perceptron.py:692: ConvergenceWarning: Stochastic Optimizer: Maximum iterations (200) reached and the optimization hasn't converged yet.\n",
      "  warnings.warn(\n",
      "/opt/anaconda3/lib/python3.8/site-packages/sklearn/neural_network/_multilayer_perceptron.py:692: ConvergenceWarning: Stochastic Optimizer: Maximum iterations (200) reached and the optimization hasn't converged yet.\n",
      "  warnings.warn(\n",
      "/opt/anaconda3/lib/python3.8/site-packages/sklearn/neural_network/_multilayer_perceptron.py:692: ConvergenceWarning: Stochastic Optimizer: Maximum iterations (200) reached and the optimization hasn't converged yet.\n",
      "  warnings.warn(\n",
      "/opt/anaconda3/lib/python3.8/site-packages/sklearn/neural_network/_multilayer_perceptron.py:692: ConvergenceWarning: Stochastic Optimizer: Maximum iterations (200) reached and the optimization hasn't converged yet.\n",
      "  warnings.warn(\n",
      "/opt/anaconda3/lib/python3.8/site-packages/sklearn/neural_network/_multilayer_perceptron.py:692: ConvergenceWarning: Stochastic Optimizer: Maximum iterations (200) reached and the optimization hasn't converged yet.\n",
      "  warnings.warn(\n",
      "/opt/anaconda3/lib/python3.8/site-packages/sklearn/neural_network/_multilayer_perceptron.py:692: ConvergenceWarning: Stochastic Optimizer: Maximum iterations (200) reached and the optimization hasn't converged yet.\n",
      "  warnings.warn(\n",
      "/opt/anaconda3/lib/python3.8/site-packages/sklearn/neural_network/_multilayer_perceptron.py:692: ConvergenceWarning: Stochastic Optimizer: Maximum iterations (200) reached and the optimization hasn't converged yet.\n",
      "  warnings.warn(\n",
      "/opt/anaconda3/lib/python3.8/site-packages/sklearn/neural_network/_multilayer_perceptron.py:692: ConvergenceWarning: Stochastic Optimizer: Maximum iterations (200) reached and the optimization hasn't converged yet.\n",
      "  warnings.warn(\n",
      "/opt/anaconda3/lib/python3.8/site-packages/sklearn/neural_network/_multilayer_perceptron.py:692: ConvergenceWarning: Stochastic Optimizer: Maximum iterations (200) reached and the optimization hasn't converged yet.\n",
      "  warnings.warn(\n",
      "/opt/anaconda3/lib/python3.8/site-packages/sklearn/neural_network/_multilayer_perceptron.py:692: ConvergenceWarning: Stochastic Optimizer: Maximum iterations (200) reached and the optimization hasn't converged yet.\n",
      "  warnings.warn(\n",
      "/opt/anaconda3/lib/python3.8/site-packages/sklearn/neural_network/_multilayer_perceptron.py:692: ConvergenceWarning: Stochastic Optimizer: Maximum iterations (200) reached and the optimization hasn't converged yet.\n",
      "  warnings.warn(\n",
      "/opt/anaconda3/lib/python3.8/site-packages/sklearn/neural_network/_multilayer_perceptron.py:692: ConvergenceWarning: Stochastic Optimizer: Maximum iterations (200) reached and the optimization hasn't converged yet.\n",
      "  warnings.warn(\n"
     ]
    },
    {
     "data": {
      "image/png": "[encoded data removed]",
      "text/plain": [
       "<Figure size 720x360 with 1 Axes>"
      ]
     },
     "metadata": {
      "needs_background": "light"
     },
     "output_type": "display_data"
    },
    {
     "name": "stdout",
     "output_type": "stream",
     "text": [
      "              precision    recall  f1-score   support\n",
      "\n",
      "           1    0.92790   0.93968   0.93375       315\n",
      "           2    0.94402   0.92060   0.93216       403\n",
      "           3    0.93403   0.95390   0.94386       282\n",
      "\n",
      "    accuracy                        0.93600      1000\n",
      "   macro avg    0.93532   0.93806   0.93659      1000\n",
      "weighted avg    0.93612   0.93600   0.93596      1000\n",
      "\n",
      "[[296  13   6]\n",
      " [ 19 371  13]\n",
      " [  4   9 269]]\n"
     ]
    },
    {
     "name": "stderr",
     "output_type": "stream",
     "text": [
      "/opt/anaconda3/lib/python3.8/site-packages/sklearn/neural_network/_multilayer_perceptron.py:692: ConvergenceWarning: Stochastic Optimizer: Maximum iterations (200) reached and the optimization hasn't converged yet.\n",
      "  warnings.warn(\n"
     ]
    }
   ],
   "source": [
    "neural_network(dataset_wine, 'Neural Network: wine')"
   ]
  },
  {
   "cell_type": "markdown",
   "id": "fd2ed97b-f0fa-4cdd-a528-c1809ccca2ec",
   "metadata": {},
   "source": [
    "# Boosting"
   ]
  },
  {
   "cell_type": "code",
   "execution_count": 21,
   "id": "1a43135d-5351-4980-8012-f04eaacd0602",
   "metadata": {},
   "outputs": [],
   "source": [
    "def boosting(data, title):\n",
    "    param_grid = {\n",
    "    'n_estimators': [25, 50, 100],\n",
    "        'learning_rate': [1, 0.5, 0.1]\n",
    "    }\n",
    "    searcher = GridSearchCV(AdaBoostClassifier(), param_grid, cv=10, \n",
    "                          scoring='f1_weighted', n_jobs=-1)\n",
    "    searcher.fit(data['X_train'], data['y_train'])\n",
    "    print(searcher.best_estimator_) \n",
    "    print('best score:', searcher.best_score_)\n",
    "    \n",
    "    estimator = AdaBoostClassifier(n_estimators=searcher.best_estimator_.n_estimators, \n",
    "                                       learning_rate=searcher.best_estimator_.learning_rate)\n",
    "    \n",
    "    plot_learning_curve(estimator, title, data['X'], data['y'], ylim=None, cv=None,\n",
    "                        n_jobs=1, train_sizes=np.linspace(.1, 1.0, 5))\n",
    "    \n",
    "    estimator.fit(data['X_train'], data['y_train'])\n",
    "    test_pred = estimator.predict(data['X_test'])\n",
    "    print(classification_report(data['y_test'], test_pred,digits=5))\n",
    "    print(confusion_matrix(data['y_test'], test_pred))\n"
   ]
  },
  {
   "cell_type": "code",
   "execution_count": 22,
   "id": "12e0d320-b6e3-4b02-b9d6-e1304739cb88",
   "metadata": {},
   "outputs": [
    {
     "name": "stdout",
     "output_type": "stream",
     "text": [
      "AdaBoostClassifier(learning_rate=0.1, n_estimators=100)\n",
      "best score: 0.8785821212116538\n"
     ]
    },
    {
     "data": {
      "image/png": "[encoded data removed]",
      "text/plain": [
       "<Figure size 720x360 with 1 Axes>"
      ]
     },
     "metadata": {
      "needs_background": "light"
     },
     "output_type": "display_data"
    },
    {
     "name": "stdout",
     "output_type": "stream",
     "text": [
      "              precision    recall  f1-score   support\n",
      "\n",
      "           1    0.92491   0.99267   0.95760       273\n",
      "           2    0.00000   0.00000   0.00000         6\n",
      "           3    0.50000   0.16667   0.25000         6\n",
      "           4    0.50000   0.11111   0.18182         9\n",
      "           5    0.20000   0.11111   0.14286         9\n",
      "\n",
      "    accuracy                        0.90429       303\n",
      "   macro avg    0.42498   0.27631   0.30645       303\n",
      "weighted avg    0.86403   0.90429   0.87738       303\n",
      "\n",
      "[[271   0   0   1   1]\n",
      " [  4   0   0   0   2]\n",
      " [  4   1   1   0   0]\n",
      " [  7   0   0   1   1]\n",
      " [  7   0   1   0   1]]\n"
     ]
    }
   ],
   "source": [
    "boosting(dataset_volcanoes, 'Boosting: volcanoes')"
   ]
  },
  {
   "cell_type": "code",
   "execution_count": 23,
   "id": "95e19281-a5d3-46a4-a937-e057512af359",
   "metadata": {},
   "outputs": [
    {
     "name": "stdout",
     "output_type": "stream",
     "text": [
      "AdaBoostClassifier(learning_rate=0.5, n_estimators=100)\n",
      "best score: 0.9259902145973016\n"
     ]
    },
    {
     "data": {
      "image/png": "[encoded data removed]",
      "text/plain": [
       "<Figure size 720x360 with 1 Axes>"
      ]
     },
     "metadata": {
      "needs_background": "light"
     },
     "output_type": "display_data"
    },
    {
     "name": "stdout",
     "output_type": "stream",
     "text": [
      "              precision    recall  f1-score   support\n",
      "\n",
      "           1    0.92331   0.95556   0.93916       315\n",
      "           2    0.95078   0.91067   0.93029       403\n",
      "           3    0.92708   0.94681   0.93684       282\n",
      "\n",
      "    accuracy                        0.93500      1000\n",
      "   macro avg    0.93372   0.93768   0.93543      1000\n",
      "weighted avg    0.93544   0.93500   0.93493      1000\n",
      "\n",
      "[[301   8   6]\n",
      " [ 21 367  15]\n",
      " [  4  11 267]]\n"
     ]
    }
   ],
   "source": [
    "boosting(dataset_wine, 'Boosting: wine')"
   ]
  },
  {
   "cell_type": "markdown",
   "id": "3aff39b0-a58a-43a7-90d3-6562d9718de5",
   "metadata": {},
   "source": [
    "# SVM"
   ]
  },
  {
   "cell_type": "code",
   "execution_count": 24,
   "id": "d9a85b13-c215-48ba-aa33-51545b4fb167",
   "metadata": {},
   "outputs": [],
   "source": [
    "def svm(data, title):\n",
    "    param_grid = {\n",
    "    'kernel': ['linear', 'poly', 'rbf'],\n",
    "    'C' : [0.5, 1.0, 2.0],\n",
    "    'degree': [2, 3, 4, 5],\n",
    "    'gamma': ['scale', 'auto']\n",
    "}\n",
    "    searcher = GridSearchCV(SVC(), param_grid, cv=10, \n",
    "                          scoring='f1_weighted', n_jobs=-1)\n",
    "    searcher.fit(data['X_train'], data['y_train'])\n",
    "    print(searcher.best_estimator_) \n",
    "    print('best score:', searcher.best_score_)\n",
    "    \n",
    "    estimator = SVC(kernel=searcher.best_estimator_.kernel, \n",
    "                    C=searcher.best_estimator_.C,\n",
    "                   degree=searcher.best_estimator_.degree,\n",
    "                   gamma=searcher.best_estimator_.gamma)\n",
    "    \n",
    "    plot_learning_curve(estimator, title, data['X'], data['y'], ylim=None, cv=None,\n",
    "                        n_jobs=1, train_sizes=np.linspace(.1, 1.0, 5))\n",
    "    \n",
    "    estimator.fit(data['X_train'], data['y_train'])\n",
    "    test_pred = estimator.predict(data['X_test'])\n",
    "    print(classification_report(data['y_test'], test_pred,digits=5))\n",
    "    print(confusion_matrix(data['y_test'], test_pred))\n"
   ]
  },
  {
   "cell_type": "code",
   "execution_count": 31,
   "id": "5dea902e-af8d-4f4d-9b66-6bc9501735ef",
   "metadata": {},
   "outputs": [
    {
     "name": "stdout",
     "output_type": "stream",
     "text": [
      "SVC(degree=4, kernel='poly')\n",
      "best score: 0.8786096751131274\n"
     ]
    },
    {
     "data": {
      "image/png": "[encoded data removed]",
      "text/plain": [
       "<Figure size 720x360 with 1 Axes>"
      ]
     },
     "metadata": {
      "needs_background": "light"
     },
     "output_type": "display_data"
    },
    {
     "name": "stdout",
     "output_type": "stream",
     "text": [
      "              precision    recall  f1-score   support\n",
      "\n",
      "           1    0.91892   0.99634   0.95606       273\n",
      "           2    0.00000   0.00000   0.00000         6\n",
      "           3    0.00000   0.00000   0.00000         6\n",
      "           4    0.66667   0.22222   0.33333         9\n",
      "           5    0.25000   0.11111   0.15385         9\n",
      "\n",
      "    accuracy                        0.90759       303\n",
      "   macro avg    0.36712   0.26593   0.28865       303\n",
      "weighted avg    0.85516   0.90759   0.87587       303\n",
      "\n",
      "[[272   0   0   1   0]\n",
      " [  4   0   0   0   2]\n",
      " [  5   0   0   0   1]\n",
      " [  7   0   0   2   0]\n",
      " [  8   0   0   0   1]]\n"
     ]
    },
    {
     "name": "stderr",
     "output_type": "stream",
     "text": [
      "/opt/anaconda3/lib/python3.8/site-packages/sklearn/metrics/_classification.py:1318: UndefinedMetricWarning: Precision and F-score are ill-defined and being set to 0.0 in labels with no predicted samples. Use `zero_division` parameter to control this behavior.\n",
      "  _warn_prf(average, modifier, msg_start, len(result))\n",
      "/opt/anaconda3/lib/python3.8/site-packages/sklearn/metrics/_classification.py:1318: UndefinedMetricWarning: Precision and F-score are ill-defined and being set to 0.0 in labels with no predicted samples. Use `zero_division` parameter to control this behavior.\n",
      "  _warn_prf(average, modifier, msg_start, len(result))\n",
      "/opt/anaconda3/lib/python3.8/site-packages/sklearn/metrics/_classification.py:1318: UndefinedMetricWarning: Precision and F-score are ill-defined and being set to 0.0 in labels with no predicted samples. Use `zero_division` parameter to control this behavior.\n",
      "  _warn_prf(average, modifier, msg_start, len(result))\n"
     ]
    }
   ],
   "source": [
    "svm(dataset_volcanoes, 'SVM: volcanoes')"
   ]
  },
  {
   "cell_type": "code",
   "execution_count": 32,
   "id": "309126be-040e-4806-a01b-2a150b8cc311",
   "metadata": {},
   "outputs": [
    {
     "name": "stdout",
     "output_type": "stream",
     "text": [
      "SVC(degree=2)\n",
      "best score: 0.9289866737506781\n"
     ]
    },
    {
     "data": {
      "image/png": "[encoded data removed]",
      "text/plain": [
       "<Figure size 720x360 with 1 Axes>"
      ]
     },
     "metadata": {
      "needs_background": "light"
     },
     "output_type": "display_data"
    },
    {
     "name": "stdout",
     "output_type": "stream",
     "text": [
      "              precision    recall  f1-score   support\n",
      "\n",
      "           1    0.92547   0.94603   0.93564       315\n",
      "           2    0.94133   0.91563   0.92830       403\n",
      "           3    0.93357   0.94681   0.94014       282\n",
      "\n",
      "    accuracy                        0.93400      1000\n",
      "   macro avg    0.93345   0.93616   0.93469      1000\n",
      "weighted avg    0.93414   0.93400   0.93395      1000\n",
      "\n",
      "[[298  12   5]\n",
      " [ 20 369  14]\n",
      " [  4  11 267]]\n"
     ]
    }
   ],
   "source": [
    "svm(dataset_wine, 'SVM: wine')"
   ]
  },
  {
   "cell_type": "markdown",
   "id": "83f25f6e-f2e8-4388-be96-679e58aef921",
   "metadata": {},
   "source": [
    "# KNN"
   ]
  },
  {
   "cell_type": "code",
   "execution_count": 27,
   "id": "87a8b601-1035-4ab4-9682-eeda50a52277",
   "metadata": {},
   "outputs": [],
   "source": [
    "def knn(data, title):\n",
    "    param_grid = {\n",
    "    'n_neighbors': [3, 5, 7, 10],\n",
    "    'leaf_size' : [10, 20, 30, 40, 50],\n",
    "    'weights': ['uniform', 'distance']\n",
    "}\n",
    "    searcher = GridSearchCV(KNeighborsClassifier(), param_grid, cv=10, \n",
    "                          scoring='f1_weighted', n_jobs=-1)\n",
    "    searcher.fit(data['X_train'], data['y_train'])\n",
    "    print(searcher.best_estimator_) \n",
    "    print('best score:', searcher.best_score_)\n",
    "    \n",
    "    estimator = KNeighborsClassifier(n_neighbors=searcher.best_estimator_.n_neighbors,\n",
    "                                     leaf_size=searcher.best_estimator_.leaf_size,\n",
    "                             weights=searcher.best_estimator_.weights)\n",
    "    \n",
    "    plot_learning_curve(estimator, title, data['X'], data['y'], ylim=[0.3, 1.2], cv=None,\n",
    "                        n_jobs=1, train_sizes=np.linspace(.1, 1.0, 5))\n",
    "    \n",
    "    estimator.fit(data['X_train'], data['y_train'])\n",
    "    test_pred = estimator.predict(data['X_test'])\n",
    "    print(classification_report(data['y_test'], test_pred,digits=5))\n",
    "    print(confusion_matrix(data['y_test'], test_pred))\n"
   ]
  },
  {
   "cell_type": "code",
   "execution_count": 28,
   "id": "349a0118-f06b-4807-98d0-e3719c92c1b9",
   "metadata": {},
   "outputs": [
    {
     "name": "stdout",
     "output_type": "stream",
     "text": [
      "KNeighborsClassifier(leaf_size=10, n_neighbors=3, weights='distance')\n",
      "best score: 0.8883597084920203\n"
     ]
    },
    {
     "data": {
      "image/png": "[encoded data removed]",
      "text/plain": [
       "<Figure size 720x360 with 1 Axes>"
      ]
     },
     "metadata": {
      "needs_background": "light"
     },
     "output_type": "display_data"
    },
    {
     "name": "stdout",
     "output_type": "stream",
     "text": [
      "              precision    recall  f1-score   support\n",
      "\n",
      "           1    0.94526   0.94872   0.94698       273\n",
      "           2    0.00000   0.00000   0.00000         6\n",
      "           3    0.00000   0.00000   0.00000         6\n",
      "           4    0.13333   0.22222   0.16667         9\n",
      "           5    0.00000   0.00000   0.00000         9\n",
      "\n",
      "    accuracy                        0.86139       303\n",
      "   macro avg    0.21572   0.23419   0.22273       303\n",
      "weighted avg    0.85563   0.86139   0.85817       303\n",
      "\n",
      "[[259   1   1   9   3]\n",
      " [  3   0   0   0   3]\n",
      " [  4   2   0   0   0]\n",
      " [  3   1   2   2   1]\n",
      " [  5   0   0   4   0]]\n"
     ]
    }
   ],
   "source": [
    "knn(dataset_volcanoes, 'KNN: volcanoes')"
   ]
  },
  {
   "cell_type": "code",
   "execution_count": 30,
   "id": "a4e60992-7ed4-4411-a353-a1b509187554",
   "metadata": {},
   "outputs": [
    {
     "name": "stdout",
     "output_type": "stream",
     "text": [
      "KNeighborsClassifier(leaf_size=10, n_neighbors=10, weights='distance')\n",
      "best score: 0.923713350305805\n"
     ]
    },
    {
     "data": {
      "image/png": "[encoded data removed]",
      "text/plain": [
       "<Figure size 720x360 with 1 Axes>"
      ]
     },
     "metadata": {
      "needs_background": "light"
     },
     "output_type": "display_data"
    },
    {
     "name": "stdout",
     "output_type": "stream",
     "text": [
      "              precision    recall  f1-score   support\n",
      "\n",
      "           1    0.90881   0.94921   0.92857       315\n",
      "           2    0.93606   0.90819   0.92191       403\n",
      "           3    0.94286   0.93617   0.93950       282\n",
      "\n",
      "    accuracy                        0.92900      1000\n",
      "   macro avg    0.92924   0.93119   0.93000      1000\n",
      "weighted avg    0.92940   0.92900   0.92897      1000\n",
      "\n",
      "[[299  11   5]\n",
      " [ 26 366  11]\n",
      " [  4  14 264]]\n"
     ]
    }
   ],
   "source": [
    "knn(dataset_wine, 'KNN: wine')"
   ]
  },
  {
   "cell_type": "code",
   "execution_count": null,
   "id": "1915d77d-a3af-4072-b721-9a4a691d47bc",
   "metadata": {},
   "outputs": [],
   "source": []
  }
 ],
 "metadata": {
  "kernelspec": {
   "display_name": "Python 3 (ipykernel)",
   "language": "python",
   "name": "python3"
  },
  "language_info": {
   "codemirror_mode": {
    "name": "ipython",
    "version": 3
   },
   "file_extension": ".py",
   "mimetype": "text/x-python",
   "name": "python",
   "nbconvert_exporter": "python",
   "pygments_lexer": "ipython3",
   "version": "3.8.13"
  }
 },
 "nbformat": 4,
 "nbformat_minor": 5
}
