{
 "cells": [
  {
   "cell_type": "code",
   "execution_count": 1,
   "id": "480cd4c7-0797-4f9c-a6c9-b3cd093b431c",
   "metadata": {},
   "outputs": [],
   "source": [
    "import pandas as pd\n",
    "import os\n",
    "import numpy as np\n",
    "import matplotlib.pyplot as plt\n",
    "import random\n",
    "import time\n",
    "\n",
    "from sklearn.model_selection import cross_validate, train_test_split\n",
    "from sklearn.neural_network import MLPClassifier\n",
    "from sklearn.metrics import accuracy_score, f1_score, confusion_matrix\n",
    "from sklearn import preprocessing, datasets\n",
    "from sklearn.preprocessing import MinMaxScaler, OneHotEncoder\n",
    "\n",
    "import mlrose_hiive\n"
   ]
  },
  {
   "cell_type": "code",
   "execution_count": 2,
   "id": "f072107d-f42c-43ed-a787-b8ef71927348",
   "metadata": {},
   "outputs": [],
   "source": [
    "SEED = 2023\n",
    "random.seed(SEED)"
   ]
  },
  {
   "cell_type": "code",
   "execution_count": 3,
   "id": "779d90fe-fd5e-45e4-9b63-066ba6d7af3e",
   "metadata": {},
   "outputs": [],
   "source": [
    "knapsack_len=100\n",
    "knapsack_weights=np.random.uniform(0,10,knapsack_len)\n",
    "knapsack_values=np.random.uniform(0,10,knapsack_len)\n",
    "problem = mlrose_hiive.KnapsackOpt(weights=knapsack_weights, values=knapsack_values,\n",
    "                                  max_weight_pct=0.5)"
   ]
  },
  {
   "cell_type": "markdown",
   "id": "6381bc02-11cb-499a-882a-2e2075a9b703",
   "metadata": {},
   "source": [
    "## Random Hill Climb"
   ]
  },
  {
   "cell_type": "code",
   "execution_count": 4,
   "id": "75388876-ec0b-4495-a9f6-33bb92a93a68",
   "metadata": {},
   "outputs": [
    {
     "name": "stdout",
     "output_type": "stream",
     "text": [
      "CPU times: user 197 ms, sys: 9.87 ms, total: 207 ms\n",
      "Wall time: 201 ms\n"
     ]
    }
   ],
   "source": [
    "%%time\n",
    "\n",
    "model_rhc = mlrose_hiive.RHCRunner(problem, experiment_name=\"RHC\", \n",
    "                                       iteration_list=[10000],\n",
    "                                       seed=SEED, max_attempts=20, \n",
    "                                       restart_list=[20])\n",
    "rhc_stats, rhc_curves = model_rhc.run()"
   ]
  },
  {
   "cell_type": "code",
   "execution_count": 6,
   "id": "4c110535-e50d-4645-92ab-dd30e317a145",
   "metadata": {},
   "outputs": [
    {
     "data": {
      "image/png": "[encoded data removed]",
      "text/plain": [
       "<Figure size 720x432 with 1 Axes>"
      ]
     },
     "metadata": {
      "needs_background": "light"
     },
     "output_type": "display_data"
    }
   ],
   "source": [
    "best_idx = rhc_curves.Fitness.idxmax()\n",
    "best_decay = rhc_curves.iloc[best_idx].current_restart\n",
    "best_curve = rhc_curves.loc[rhc_curves.current_restart == best_decay, :]\n",
    "best_curve.reset_index(inplace=True)\n",
    "best_decay\n",
    "\n",
    "ax = best_curve.Fitness.plot(lw=2, colormap='jet', marker='.', markersize=2, \n",
    "                             figsize=(10,6), grid=1,\n",
    "                             title='Best Random Hill Climb')\n",
    "ax.set_xlabel(\"iterations\")\n",
    "ax.set_ylabel(\"value\")\n",
    "plt.show()"
   ]
  },
  {
   "cell_type": "code",
   "execution_count": 7,
   "id": "4723624b-d39d-4a4e-ad76-83d5b06f9e7b",
   "metadata": {},
   "outputs": [
    {
     "data": {
      "text/html": [
       "<div>\n",
       "<style scoped>\n",
       "    .dataframe tbody tr th:only-of-type {\n",
       "        vertical-align: middle;\n",
       "    }\n",
       "\n",
       "    .dataframe tbody tr th {\n",
       "        vertical-align: top;\n",
       "    }\n",
       "\n",
       "    .dataframe thead th {\n",
       "        text-align: right;\n",
       "    }\n",
       "</style>\n",
       "<table border=\"1\" class=\"dataframe\">\n",
       "  <thead>\n",
       "    <tr style=\"text-align: right;\">\n",
       "      <th></th>\n",
       "      <th>Fitness</th>\n",
       "      <th>Time</th>\n",
       "    </tr>\n",
       "  </thead>\n",
       "  <tbody>\n",
       "    <tr>\n",
       "      <th>max</th>\n",
       "      <td>292.954008</td>\n",
       "      <td>0.015181</td>\n",
       "    </tr>\n",
       "    <tr>\n",
       "      <th>mean</th>\n",
       "      <td>175.909556</td>\n",
       "      <td>0.005850</td>\n",
       "    </tr>\n",
       "  </tbody>\n",
       "</table>\n",
       "</div>"
      ],
      "text/plain": [
       "         Fitness      Time\n",
       "max   292.954008  0.015181\n",
       "mean  175.909556  0.005850"
      ]
     },
     "execution_count": 7,
     "metadata": {},
     "output_type": "execute_result"
    }
   ],
   "source": [
    "last_iters = rhc_curves[rhc_curves.Iteration != 0].reset_index()\n",
    "pd.DataFrame({'Fitness': {'max': last_iters.Fitness.max(), 'mean': last_iters.Fitness.mean()},\n",
    "             'Time': {'max': last_iters.Time.max(), 'mean': last_iters.Time.mean()}})\n",
    "\n"
   ]
  },
  {
   "cell_type": "markdown",
   "id": "7c434f4d-75f6-4753-9243-091a9cb70692",
   "metadata": {},
   "source": [
    "## Simulated Annealing"
   ]
  },
  {
   "cell_type": "code",
   "execution_count": 8,
   "id": "aba85912-c537-4bfc-bdf4-8b2300094481",
   "metadata": {},
   "outputs": [
    {
     "name": "stdout",
     "output_type": "stream",
     "text": [
      "CPU times: user 712 ms, sys: 10.4 ms, total: 722 ms\n",
      "Wall time: 721 ms\n"
     ]
    }
   ],
   "source": [
    "%%time\n",
    "model_sa = mlrose_hiive.SARunner(problem, experiment_name=\"SA\", \n",
    "                           iteration_list=[10000],\n",
    "                           temperature_list=[1, 10, 50, 100, 250],\n",
    "                           decay_list=[mlrose_hiive.ExpDecay,\n",
    "                                       mlrose_hiive.GeomDecay],\n",
    "                           seed=SEED, max_attempts=10)\n",
    "\n",
    "sa_stats, sa_curves = model_sa.run()   "
   ]
  },
  {
   "cell_type": "code",
   "execution_count": 9,
   "id": "59af0e79-22a0-4142-a3ce-86d42b1f7f9a",
   "metadata": {},
   "outputs": [
    {
     "data": {
      "image/png": "[encoded data removed]",
      "text/plain": [
       "<Figure size 720x432 with 1 Axes>"
      ]
     },
     "metadata": {
      "needs_background": "light"
     },
     "output_type": "display_data"
    }
   ],
   "source": [
    "best_idx = sa_curves.Fitness.idxmax()\n",
    "best_decay = sa_curves.iloc[best_idx].Temperature\n",
    "best_curve = sa_curves.loc[sa_curves.Temperature == best_decay, :]\n",
    "best_curve.reset_index(inplace=True)\n",
    "best_decay\n",
    "\n",
    "ax = best_curve.Fitness.plot(lw=2, colormap='jet', marker='.', markersize=2, \n",
    "                             figsize=(10,6), grid=1,\n",
    "                             title='Best Simulated Annealing')\n",
    "ax.set_xlabel(\"iterations\")\n",
    "ax.set_ylabel(\"value\")\n",
    "plt.show()"
   ]
  },
  {
   "cell_type": "code",
   "execution_count": 10,
   "id": "7edfda78-8af9-4e75-982c-72fec9474577",
   "metadata": {},
   "outputs": [
    {
     "data": {
      "text/html": [
       "<div>\n",
       "<style scoped>\n",
       "    .dataframe tbody tr th:only-of-type {\n",
       "        vertical-align: middle;\n",
       "    }\n",
       "\n",
       "    .dataframe tbody tr th {\n",
       "        vertical-align: top;\n",
       "    }\n",
       "\n",
       "    .dataframe thead th {\n",
       "        text-align: right;\n",
       "    }\n",
       "</style>\n",
       "<table border=\"1\" class=\"dataframe\">\n",
       "  <thead>\n",
       "    <tr style=\"text-align: right;\">\n",
       "      <th></th>\n",
       "      <th>Fitness</th>\n",
       "      <th>Time</th>\n",
       "    </tr>\n",
       "  </thead>\n",
       "  <tbody>\n",
       "    <tr>\n",
       "      <th>max</th>\n",
       "      <td>314.249330</td>\n",
       "      <td>0.233515</td>\n",
       "    </tr>\n",
       "    <tr>\n",
       "      <th>mean</th>\n",
       "      <td>279.734446</td>\n",
       "      <td>0.067036</td>\n",
       "    </tr>\n",
       "  </tbody>\n",
       "</table>\n",
       "</div>"
      ],
      "text/plain": [
       "         Fitness      Time\n",
       "max   314.249330  0.233515\n",
       "mean  279.734446  0.067036"
      ]
     },
     "execution_count": 10,
     "metadata": {},
     "output_type": "execute_result"
    }
   ],
   "source": [
    "last_iters = sa_stats[sa_stats.Iteration != 0].reset_index()\n",
    "pd.DataFrame({'Fitness': {'max': last_iters.Fitness.max(), 'mean': last_iters.Fitness.mean()},\n",
    "             'Time': {'max': last_iters.Time.max(), 'mean': last_iters.Time.mean()}})\n"
   ]
  },
  {
   "cell_type": "markdown",
   "id": "fafcb3f4-db8f-45b5-b4c0-e4597c52ccd8",
   "metadata": {},
   "source": [
    "## Genetic Algo"
   ]
  },
  {
   "cell_type": "code",
   "execution_count": 4,
   "id": "973e7970-7b28-4fda-95c4-beb5bcc2f504",
   "metadata": {},
   "outputs": [
    {
     "name": "stdout",
     "output_type": "stream",
     "text": [
      "CPU times: user 7.22 s, sys: 47.7 ms, total: 7.27 s\n",
      "Wall time: 7.35 s\n"
     ]
    }
   ],
   "source": [
    "%%time\n",
    "model_ga = mlrose_hiive.GARunner(problem=problem,\n",
    "                          experiment_name=\"GA\",\n",
    "                          seed=SEED,\n",
    "                          iteration_list=[10000],\n",
    "                          max_attempts=100,\n",
    "                          population_sizes=[20,50,100],\n",
    "                          mutation_rates=[0.1, 0.25, 0.5])\n",
    "ga_stats, ga_curves = model_ga.run()   "
   ]
  },
  {
   "cell_type": "code",
   "execution_count": 5,
   "id": "5b9fbf22-0c6b-4965-a19e-a25ae92cdc77",
   "metadata": {},
   "outputs": [
    {
     "data": {
      "image/png": "[encoded data removed]",
      "text/plain": [
       "<Figure size 720x432 with 1 Axes>"
      ]
     },
     "metadata": {
      "needs_background": "light"
     },
     "output_type": "display_data"
    }
   ],
   "source": [
    "best_idx = ga_curves.Fitness.idxmax()\n",
    "best_pop_size = ga_curves.iloc[best_idx]['Population Size']\n",
    "best_mut_rate = ga_curves.iloc[best_idx]['Mutation Rate']\n",
    "best_curve = ga_curves.loc[(ga_curves['Population Size'] == best_pop_size)&\n",
    "                           (ga_curves['Mutation Rate'] == best_mut_rate), :]\n",
    "best_curve.reset_index(inplace=True)\n",
    "\n",
    "ax = best_curve.Fitness.iloc[:].plot(lw=2, colormap='jet', marker='.', markersize=2, \n",
    "                             figsize=(10,6), grid=1,\n",
    "                             title='Best Genetic Algo')\n",
    "ax.set_xlabel(\"iterations\")\n",
    "ax.set_ylabel(\"value\")\n",
    "plt.show()"
   ]
  },
  {
   "cell_type": "code",
   "execution_count": 6,
   "id": "5f344337-b51d-4306-8d6a-bae7cf6b0cd4",
   "metadata": {},
   "outputs": [
    {
     "name": "stdout",
     "output_type": "stream",
     "text": [
      "max: 373.4743282535298 \n",
      " mean: 356.8231745835069 0.8117984256666533\n"
     ]
    },
    {
     "data": {
      "text/html": [
       "<div>\n",
       "<style scoped>\n",
       "    .dataframe tbody tr th:only-of-type {\n",
       "        vertical-align: middle;\n",
       "    }\n",
       "\n",
       "    .dataframe tbody tr th {\n",
       "        vertical-align: top;\n",
       "    }\n",
       "\n",
       "    .dataframe thead th {\n",
       "        text-align: right;\n",
       "    }\n",
       "</style>\n",
       "<table border=\"1\" class=\"dataframe\">\n",
       "  <thead>\n",
       "    <tr style=\"text-align: right;\">\n",
       "      <th></th>\n",
       "      <th>Mutation Rate</th>\n",
       "      <th>Fitness</th>\n",
       "      <th>Population Size</th>\n",
       "      <th>Fitness</th>\n",
       "    </tr>\n",
       "  </thead>\n",
       "  <tbody>\n",
       "    <tr>\n",
       "      <th>0</th>\n",
       "      <td>0.10</td>\n",
       "      <td>350.780756</td>\n",
       "      <td>20</td>\n",
       "      <td>333.449296</td>\n",
       "    </tr>\n",
       "    <tr>\n",
       "      <th>1</th>\n",
       "      <td>0.25</td>\n",
       "      <td>351.806513</td>\n",
       "      <td>50</td>\n",
       "      <td>364.397730</td>\n",
       "    </tr>\n",
       "    <tr>\n",
       "      <th>2</th>\n",
       "      <td>0.50</td>\n",
       "      <td>367.882255</td>\n",
       "      <td>100</td>\n",
       "      <td>372.622498</td>\n",
       "    </tr>\n",
       "  </tbody>\n",
       "</table>\n",
       "</div>"
      ],
      "text/plain": [
       "   Mutation Rate     Fitness  Population Size     Fitness\n",
       "0           0.10  350.780756               20  333.449296\n",
       "1           0.25  351.806513               50  364.397730\n",
       "2           0.50  367.882255              100  372.622498"
      ]
     },
     "execution_count": 6,
     "metadata": {},
     "output_type": "execute_result"
    }
   ],
   "source": [
    "last_iters = ga_stats[ga_stats.Iteration != 0].reset_index()\n",
    "print('max:', last_iters.Fitness.max(), '\\n', \n",
    "      'mean:', last_iters.Fitness.mean(), last_iters.Time.mean())\n",
    "df1 = pd.DataFrame({\"Mutation Rate\": last_iters.groupby(\"Mutation Rate\").Fitness.mean().to_dict()})\n",
    "df1=df1.reset_index()\n",
    "df1.columns=['Mutation Rate', 'Fitness']\n",
    "df2 = pd.DataFrame({\"Population Size\": last_iters.groupby(\"Population Size\").Fitness.mean().to_dict()})\n",
    "df2=df2.reset_index()\n",
    "df2.columns=['Population Size', 'Fitness']\n",
    "pd.concat([df1,df2],axis=1)"
   ]
  },
  {
   "cell_type": "markdown",
   "id": "ee0204fe-e797-4c68-95f0-6655bb9b4a74",
   "metadata": {},
   "source": [
    "##  MIMIC"
   ]
  },
  {
   "cell_type": "code",
   "execution_count": 7,
   "id": "314e83f1-e9e0-404b-8fed-22c7e0072454",
   "metadata": {},
   "outputs": [
    {
     "name": "stdout",
     "output_type": "stream",
     "text": [
      "CPU times: user 8.01 s, sys: 564 ms, total: 8.57 s\n",
      "Wall time: 8.59 s\n"
     ]
    }
   ],
   "source": [
    "%%time\n",
    "model_mmc = mlrose_hiive.MIMICRunner(problem=problem,\n",
    "                          experiment_name=\"MMC\",\n",
    "                          seed=SEED,\n",
    "                          iteration_list=[100],\n",
    "                          max_attempts=20,\n",
    "                          population_sizes=[20,50,100],\n",
    "                          keep_percent_list=[0.25, 0.5, 0.75],\n",
    "                          use_fast_mimic=True)\n",
    "\n",
    "mmc_stats, mmc_curves = model_mmc.run()"
   ]
  },
  {
   "cell_type": "code",
   "execution_count": 8,
   "id": "83f4db27-4051-4d38-85b8-83e843787fce",
   "metadata": {},
   "outputs": [
    {
     "data": {
      "image/png": "[encoded data removed]",
      "text/plain": [
       "<Figure size 720x432 with 1 Axes>"
      ]
     },
     "metadata": {
      "needs_background": "light"
     },
     "output_type": "display_data"
    }
   ],
   "source": [
    "best_idx = mmc_curves.Fitness.idxmax()\n",
    "best_pop_size = mmc_curves.iloc[best_idx]['Population Size']\n",
    "best_keep_pct = mmc_curves.iloc[best_idx]['Keep Percent']\n",
    "best_curve = mmc_curves.loc[(mmc_curves['Population Size'] == best_pop_size)&\n",
    "                           (mmc_curves['Keep Percent'] == best_keep_pct), :]\n",
    "best_curve.reset_index(inplace=True)\n",
    "\n",
    "ax = best_curve.Fitness.plot(lw=2, colormap='jet', marker='.', markersize=2, \n",
    "                             figsize=(10,6), grid=1,\n",
    "                             title='Best MIMIC')\n",
    "ax.set_xlabel(\"iterations\")\n",
    "ax.set_ylabel(\"value\")\n",
    "plt.show()"
   ]
  },
  {
   "cell_type": "code",
   "execution_count": 9,
   "id": "4601181e-f388-447d-9736-b1834bbaea85",
   "metadata": {},
   "outputs": [
    {
     "name": "stdout",
     "output_type": "stream",
     "text": [
      "max: 356.6373226851617 \n",
      " mean: 297.9043116253745 0.9517904452221981\n"
     ]
    },
    {
     "data": {
      "text/html": [
       "<div>\n",
       "<style scoped>\n",
       "    .dataframe tbody tr th:only-of-type {\n",
       "        vertical-align: middle;\n",
       "    }\n",
       "\n",
       "    .dataframe tbody tr th {\n",
       "        vertical-align: top;\n",
       "    }\n",
       "\n",
       "    .dataframe thead th {\n",
       "        text-align: right;\n",
       "    }\n",
       "</style>\n",
       "<table border=\"1\" class=\"dataframe\">\n",
       "  <thead>\n",
       "    <tr style=\"text-align: right;\">\n",
       "      <th></th>\n",
       "      <th>Keep Percent</th>\n",
       "      <th>Fitness</th>\n",
       "      <th>Population Size</th>\n",
       "      <th>Fitness</th>\n",
       "    </tr>\n",
       "  </thead>\n",
       "  <tbody>\n",
       "    <tr>\n",
       "      <th>0</th>\n",
       "      <td>0.25</td>\n",
       "      <td>302.487238</td>\n",
       "      <td>20</td>\n",
       "      <td>264.648831</td>\n",
       "    </tr>\n",
       "    <tr>\n",
       "      <th>1</th>\n",
       "      <td>0.50</td>\n",
       "      <td>309.178589</td>\n",
       "      <td>50</td>\n",
       "      <td>292.541834</td>\n",
       "    </tr>\n",
       "    <tr>\n",
       "      <th>2</th>\n",
       "      <td>0.75</td>\n",
       "      <td>282.047108</td>\n",
       "      <td>100</td>\n",
       "      <td>336.522270</td>\n",
       "    </tr>\n",
       "  </tbody>\n",
       "</table>\n",
       "</div>"
      ],
      "text/plain": [
       "   Keep Percent     Fitness  Population Size     Fitness\n",
       "0          0.25  302.487238               20  264.648831\n",
       "1          0.50  309.178589               50  292.541834\n",
       "2          0.75  282.047108              100  336.522270"
      ]
     },
     "execution_count": 9,
     "metadata": {},
     "output_type": "execute_result"
    }
   ],
   "source": [
    "last_iters = mmc_stats[mmc_stats.Iteration != 0].reset_index()\n",
    "print('max:', last_iters.Fitness.max(), '\\n', \n",
    "      'mean:', last_iters.Fitness.mean(), last_iters.Time.mean())\n",
    "df1 = pd.DataFrame({\"Keep Percent\": last_iters.groupby(\"Keep Percent\").Fitness.mean().to_dict()})\n",
    "df1=df1.reset_index()\n",
    "df1.columns=['Keep Percent', 'Fitness']\n",
    "df2 = pd.DataFrame({\"Population Size\": last_iters.groupby(\"Population Size\").Fitness.mean().to_dict()})\n",
    "df2=df2.reset_index()\n",
    "df2.columns=['Population Size', 'Fitness']\n",
    "pd.concat([df1,df2],axis=1)"
   ]
  },
  {
   "cell_type": "code",
   "execution_count": null,
   "id": "cf2032cd-4f44-4910-aae1-aab72723cc83",
   "metadata": {},
   "outputs": [],
   "source": []
  }
 ],
 "metadata": {
  "kernelspec": {
   "display_name": "Python 3 (ipykernel)",
   "language": "python",
   "name": "python3"
  },
  "language_info": {
   "codemirror_mode": {
    "name": "ipython",
    "version": 3
   },
   "file_extension": ".py",
   "mimetype": "text/x-python",
   "name": "python",
   "nbconvert_exporter": "python",
   "pygments_lexer": "ipython3",
   "version": "3.8.13"
  }
 },
 "nbformat": 4,
 "nbformat_minor": 5
}
